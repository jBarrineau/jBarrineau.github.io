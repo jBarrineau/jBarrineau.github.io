{
    "metadata": {
        "kernelspec": {
            "name": "SQL",
            "display_name": "SQL",
            "language": "sql"
        },
        "language_info": {
            "name": "sql",
            "version": ""
        }
    },
    "nbformat_minor": 2,
    "nbformat": 4,
    "cells": [
        {
            "cell_type": "markdown",
            "source": [
                "\\# This is testing a header\n",
                "\n",
                "and a body"
            ],
            "metadata": {
                "azdata_cell_guid": "d157eb26-89e8-47aa-8c7c-8cefaf56d635"
            },
            "attachments": {}
        },
        {
            "cell_type": "code",
            "source": [
                "select top 5 * from dbo.Wordle2;"
            ],
            "metadata": {
                "azdata_cell_guid": "42963a07-a134-42f6-9e8a-253e74e67a06"
            },
            "outputs": [],
            "execution_count": null
        },
        {
            "cell_type": "markdown",
            "source": [
                "and one more text cell"
            ],
            "metadata": {
                "azdata_cell_guid": "6206b70d-7511-4375-b757-55cfe1386743"
            },
            "attachments": {}
        }
    ]
}