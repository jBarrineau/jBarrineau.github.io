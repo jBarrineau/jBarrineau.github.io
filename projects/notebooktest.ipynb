{
    "metadata": {
        "kernelspec": {
            "name": "SQL",
            "display_name": "SQL",
            "language": "sql"
        },
        "language_info": {
            "name": "sql",
            "version": ""
        }
    },
    "nbformat_minor": 2,
    "nbformat": 4,
    "cells": [
        {
            "cell_type": "markdown",
            "source": [
                "# This is testing a header\n",
                "\n",
                "and a body"
            ],
            "metadata": {
                "azdata_cell_guid": "d157eb26-89e8-47aa-8c7c-8cefaf56d635"
            },
            "attachments": {}
        },
        {
            "cell_type": "code",
            "source": [
                "select top 5 * from dbo.Wordle2;"
            ],
            "metadata": {
                "azdata_cell_guid": "42963a07-a134-42f6-9e8a-253e74e67a06"
            },
            "outputs": [
                {
                    "output_type": "display_data",
                    "data": {
                        "text/html": "(5 rows affected)"
                    },
                    "metadata": {}
                },
                {
                    "output_type": "display_data",
                    "data": {
                        "text/html": "Total execution time: 00:00:00.056"
                    },
                    "metadata": {}
                },
                {
                    "output_type": "execute_result",
                    "metadata": {},
                    "execution_count": 1,
                    "data": {
                        "application/vnd.dataresource+json": {
                            "schema": {
                                "fields": [
                                    {
                                        "name": "word"
                                    }
                                ]
                            },
                            "data": [
                                {
                                    "0": "AAHED"
                                },
                                {
                                    "0": "AALII"
                                },
                                {
                                    "0": "AARGH"
                                },
                                {
                                    "0": "ABACA"
                                },
                                {
                                    "0": "ABACI"
                                }
                            ]
                        },
                        "text/html": [
                            "<table>",
                            "<tr><th>word</th></tr>",
                            "<tr><td>AAHED</td></tr>",
                            "<tr><td>AALII</td></tr>",
                            "<tr><td>AARGH</td></tr>",
                            "<tr><td>ABACA</td></tr>",
                            "<tr><td>ABACI</td></tr>",
                            "</table>"
                        ]
                    }
                }
            ],
            "execution_count": 1
        },
        {
            "cell_type": "markdown",
            "source": [
                "and one more text cell"
            ],
            "metadata": {
                "azdata_cell_guid": "6206b70d-7511-4375-b757-55cfe1386743"
            },
            "attachments": {}
        }
    ]
}